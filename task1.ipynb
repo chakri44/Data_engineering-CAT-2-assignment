{
 "cells": [
  {
   "cell_type": "code",
   "execution_count": 3,
   "metadata": {},
   "outputs": [],
   "source": [
    "import pandas as pd\n",
    "import numpy as np\n",
    "import matplotlib.pyplot as plt"
   ]
  },
  {
   "cell_type": "code",
   "execution_count": 4,
   "metadata": {},
   "outputs": [
    {
     "name": "stderr",
     "output_type": "stream",
     "text": [
      "<>:2: SyntaxWarning: invalid escape sequence '\\c'\n",
      "<>:2: SyntaxWarning: invalid escape sequence '\\c'\n",
      "C:\\Users\\chakri\\AppData\\Local\\Temp\\ipykernel_14964\\737040280.py:2: SyntaxWarning: invalid escape sequence '\\c'\n",
      "  df=pd.read_csv(\"C:\\\\Users\\chakri\\Downloads\\expanded_sales_data.csv\")\n"
     ]
    }
   ],
   "source": [
    "# Load the sales data\n",
    "df=pd.read_csv(\"C:\\\\Users\\chakri\\Downloads\\expanded_sales_data.csv\")"
   ]
  },
  {
   "cell_type": "code",
   "execution_count": 5,
   "metadata": {},
   "outputs": [
    {
     "data": {
      "text/html": [
       "<div>\n",
       "<style scoped>\n",
       "    .dataframe tbody tr th:only-of-type {\n",
       "        vertical-align: middle;\n",
       "    }\n",
       "\n",
       "    .dataframe tbody tr th {\n",
       "        vertical-align: top;\n",
       "    }\n",
       "\n",
       "    .dataframe thead th {\n",
       "        text-align: right;\n",
       "    }\n",
       "</style>\n",
       "<table border=\"1\" class=\"dataframe\">\n",
       "  <thead>\n",
       "    <tr style=\"text-align: right;\">\n",
       "      <th></th>\n",
       "      <th>Date</th>\n",
       "      <th>Store ID</th>\n",
       "      <th>Product ID</th>\n",
       "      <th>Units Sold</th>\n",
       "      <th>Sales Amount</th>\n",
       "      <th>Discount Applied</th>\n",
       "      <th>Customer Segment</th>\n",
       "    </tr>\n",
       "  </thead>\n",
       "  <tbody>\n",
       "    <tr>\n",
       "      <th>0</th>\n",
       "      <td>2024-11-01</td>\n",
       "      <td>S001</td>\n",
       "      <td>P001</td>\n",
       "      <td>50</td>\n",
       "      <td>500.75</td>\n",
       "      <td>10.5</td>\n",
       "      <td>Regular</td>\n",
       "    </tr>\n",
       "    <tr>\n",
       "      <th>1</th>\n",
       "      <td>2024-11-01</td>\n",
       "      <td>S002</td>\n",
       "      <td>P002</td>\n",
       "      <td>75</td>\n",
       "      <td>1200.50</td>\n",
       "      <td>5.0</td>\n",
       "      <td>Premium</td>\n",
       "    </tr>\n",
       "    <tr>\n",
       "      <th>2</th>\n",
       "      <td>2024-11-02</td>\n",
       "      <td>S001</td>\n",
       "      <td>P001</td>\n",
       "      <td>30</td>\n",
       "      <td>300.50</td>\n",
       "      <td>0.0</td>\n",
       "      <td>New</td>\n",
       "    </tr>\n",
       "    <tr>\n",
       "      <th>3</th>\n",
       "      <td>2024-11-02</td>\n",
       "      <td>S003</td>\n",
       "      <td>P003</td>\n",
       "      <td>60</td>\n",
       "      <td>900.00</td>\n",
       "      <td>7.5</td>\n",
       "      <td>Regular</td>\n",
       "    </tr>\n",
       "    <tr>\n",
       "      <th>4</th>\n",
       "      <td>2024-11-03</td>\n",
       "      <td>S002</td>\n",
       "      <td>P001</td>\n",
       "      <td>40</td>\n",
       "      <td>400.60</td>\n",
       "      <td>10.0</td>\n",
       "      <td>Premium</td>\n",
       "    </tr>\n",
       "    <tr>\n",
       "      <th>5</th>\n",
       "      <td>2024-11-03</td>\n",
       "      <td>S003</td>\n",
       "      <td>P002</td>\n",
       "      <td>55</td>\n",
       "      <td>1100.75</td>\n",
       "      <td>15.0</td>\n",
       "      <td>New</td>\n",
       "    </tr>\n",
       "    <tr>\n",
       "      <th>6</th>\n",
       "      <td>2024-11-04</td>\n",
       "      <td>S001</td>\n",
       "      <td>P003</td>\n",
       "      <td>20</td>\n",
       "      <td>250.25</td>\n",
       "      <td>0.0</td>\n",
       "      <td>Regular</td>\n",
       "    </tr>\n",
       "    <tr>\n",
       "      <th>7</th>\n",
       "      <td>2024-11-04</td>\n",
       "      <td>S003</td>\n",
       "      <td>P004</td>\n",
       "      <td>80</td>\n",
       "      <td>1600.50</td>\n",
       "      <td>5.5</td>\n",
       "      <td>Premium</td>\n",
       "    </tr>\n",
       "    <tr>\n",
       "      <th>8</th>\n",
       "      <td>2024-11-05</td>\n",
       "      <td>S002</td>\n",
       "      <td>P004</td>\n",
       "      <td>90</td>\n",
       "      <td>1800.75</td>\n",
       "      <td>10.0</td>\n",
       "      <td>New</td>\n",
       "    </tr>\n",
       "    <tr>\n",
       "      <th>9</th>\n",
       "      <td>2024-11-05</td>\n",
       "      <td>S001</td>\n",
       "      <td>P002</td>\n",
       "      <td>35</td>\n",
       "      <td>450.75</td>\n",
       "      <td>0.0</td>\n",
       "      <td>Regular</td>\n",
       "    </tr>\n",
       "    <tr>\n",
       "      <th>10</th>\n",
       "      <td>2024-11-02</td>\n",
       "      <td>S002</td>\n",
       "      <td>P003</td>\n",
       "      <td>52</td>\n",
       "      <td>482.86</td>\n",
       "      <td>16.9</td>\n",
       "      <td>Premium</td>\n",
       "    </tr>\n",
       "    <tr>\n",
       "      <th>11</th>\n",
       "      <td>2024-11-19</td>\n",
       "      <td>S002</td>\n",
       "      <td>P005</td>\n",
       "      <td>32</td>\n",
       "      <td>1344.74</td>\n",
       "      <td>11.6</td>\n",
       "      <td>Regular</td>\n",
       "    </tr>\n",
       "    <tr>\n",
       "      <th>12</th>\n",
       "      <td>2024-11-24</td>\n",
       "      <td>S002</td>\n",
       "      <td>P005</td>\n",
       "      <td>95</td>\n",
       "      <td>1425.50</td>\n",
       "      <td>3.7</td>\n",
       "      <td>New</td>\n",
       "    </tr>\n",
       "    <tr>\n",
       "      <th>13</th>\n",
       "      <td>2024-11-06</td>\n",
       "      <td>S001</td>\n",
       "      <td>P004</td>\n",
       "      <td>24</td>\n",
       "      <td>1080.13</td>\n",
       "      <td>13.1</td>\n",
       "      <td>Regular</td>\n",
       "    </tr>\n",
       "    <tr>\n",
       "      <th>14</th>\n",
       "      <td>2024-11-07</td>\n",
       "      <td>S002</td>\n",
       "      <td>P005</td>\n",
       "      <td>70</td>\n",
       "      <td>818.58</td>\n",
       "      <td>3.3</td>\n",
       "      <td>Premium</td>\n",
       "    </tr>\n",
       "  </tbody>\n",
       "</table>\n",
       "</div>"
      ],
      "text/plain": [
       "          Date Store ID Product ID  Units Sold  Sales Amount  \\\n",
       "0   2024-11-01     S001       P001          50        500.75   \n",
       "1   2024-11-01     S002       P002          75       1200.50   \n",
       "2   2024-11-02     S001       P001          30        300.50   \n",
       "3   2024-11-02     S003       P003          60        900.00   \n",
       "4   2024-11-03     S002       P001          40        400.60   \n",
       "5   2024-11-03     S003       P002          55       1100.75   \n",
       "6   2024-11-04     S001       P003          20        250.25   \n",
       "7   2024-11-04     S003       P004          80       1600.50   \n",
       "8   2024-11-05     S002       P004          90       1800.75   \n",
       "9   2024-11-05     S001       P002          35        450.75   \n",
       "10  2024-11-02     S002       P003          52        482.86   \n",
       "11  2024-11-19     S002       P005          32       1344.74   \n",
       "12  2024-11-24     S002       P005          95       1425.50   \n",
       "13  2024-11-06     S001       P004          24       1080.13   \n",
       "14  2024-11-07     S002       P005          70        818.58   \n",
       "\n",
       "    Discount Applied Customer Segment  \n",
       "0               10.5          Regular  \n",
       "1                5.0          Premium  \n",
       "2                0.0              New  \n",
       "3                7.5          Regular  \n",
       "4               10.0          Premium  \n",
       "5               15.0              New  \n",
       "6                0.0          Regular  \n",
       "7                5.5          Premium  \n",
       "8               10.0              New  \n",
       "9                0.0          Regular  \n",
       "10              16.9          Premium  \n",
       "11              11.6          Regular  \n",
       "12               3.7              New  \n",
       "13              13.1          Regular  \n",
       "14               3.3          Premium  "
      ]
     },
     "execution_count": 5,
     "metadata": {},
     "output_type": "execute_result"
    }
   ],
   "source": [
    "df.head(15)"
   ]
  },
  {
   "cell_type": "code",
   "execution_count": 6,
   "metadata": {},
   "outputs": [
    {
     "data": {
      "text/html": [
       "<div>\n",
       "<style scoped>\n",
       "    .dataframe tbody tr th:only-of-type {\n",
       "        vertical-align: middle;\n",
       "    }\n",
       "\n",
       "    .dataframe tbody tr th {\n",
       "        vertical-align: top;\n",
       "    }\n",
       "\n",
       "    .dataframe thead th {\n",
       "        text-align: right;\n",
       "    }\n",
       "</style>\n",
       "<table border=\"1\" class=\"dataframe\">\n",
       "  <thead>\n",
       "    <tr style=\"text-align: right;\">\n",
       "      <th></th>\n",
       "      <th>Units Sold</th>\n",
       "      <th>Sales Amount</th>\n",
       "      <th>Discount Applied</th>\n",
       "    </tr>\n",
       "  </thead>\n",
       "  <tbody>\n",
       "    <tr>\n",
       "      <th>count</th>\n",
       "      <td>50.00000</td>\n",
       "      <td>50.000000</td>\n",
       "      <td>50.000000</td>\n",
       "    </tr>\n",
       "    <tr>\n",
       "      <th>mean</th>\n",
       "      <td>54.40000</td>\n",
       "      <td>981.556000</td>\n",
       "      <td>9.886000</td>\n",
       "    </tr>\n",
       "    <tr>\n",
       "      <th>std</th>\n",
       "      <td>24.87766</td>\n",
       "      <td>481.173161</td>\n",
       "      <td>6.322006</td>\n",
       "    </tr>\n",
       "    <tr>\n",
       "      <th>min</th>\n",
       "      <td>11.00000</td>\n",
       "      <td>213.370000</td>\n",
       "      <td>0.000000</td>\n",
       "    </tr>\n",
       "    <tr>\n",
       "      <th>25%</th>\n",
       "      <td>32.75000</td>\n",
       "      <td>531.475000</td>\n",
       "      <td>4.550000</td>\n",
       "    </tr>\n",
       "    <tr>\n",
       "      <th>50%</th>\n",
       "      <td>54.00000</td>\n",
       "      <td>978.015000</td>\n",
       "      <td>10.000000</td>\n",
       "    </tr>\n",
       "    <tr>\n",
       "      <th>75%</th>\n",
       "      <td>74.75000</td>\n",
       "      <td>1284.737500</td>\n",
       "      <td>16.175000</td>\n",
       "    </tr>\n",
       "    <tr>\n",
       "      <th>max</th>\n",
       "      <td>100.00000</td>\n",
       "      <td>1984.320000</td>\n",
       "      <td>19.200000</td>\n",
       "    </tr>\n",
       "  </tbody>\n",
       "</table>\n",
       "</div>"
      ],
      "text/plain": [
       "       Units Sold  Sales Amount  Discount Applied\n",
       "count    50.00000     50.000000         50.000000\n",
       "mean     54.40000    981.556000          9.886000\n",
       "std      24.87766    481.173161          6.322006\n",
       "min      11.00000    213.370000          0.000000\n",
       "25%      32.75000    531.475000          4.550000\n",
       "50%      54.00000    978.015000         10.000000\n",
       "75%      74.75000   1284.737500         16.175000\n",
       "max     100.00000   1984.320000         19.200000"
      ]
     },
     "execution_count": 6,
     "metadata": {},
     "output_type": "execute_result"
    }
   ],
   "source": [
    "df.describe()"
   ]
  },
  {
   "cell_type": "code",
   "execution_count": 7,
   "metadata": {},
   "outputs": [
    {
     "data": {
      "text/plain": [
       "Date                0\n",
       "Store ID            0\n",
       "Product ID          0\n",
       "Units Sold          0\n",
       "Sales Amount        0\n",
       "Discount Applied    0\n",
       "Customer Segment    0\n",
       "dtype: int64"
      ]
     },
     "execution_count": 7,
     "metadata": {},
     "output_type": "execute_result"
    }
   ],
   "source": [
    "df.isnull().sum()"
   ]
  },
  {
   "cell_type": "markdown",
   "metadata": {},
   "source": [
    " Step 1: Data Cleaning\n"
   ]
  },
  {
   "cell_type": "code",
   "execution_count": 8,
   "metadata": {},
   "outputs": [
    {
     "name": "stderr",
     "output_type": "stream",
     "text": [
      "C:\\Users\\chakri\\AppData\\Local\\Temp\\ipykernel_14964\\4248622353.py:2: FutureWarning: A value is trying to be set on a copy of a DataFrame or Series through chained assignment using an inplace method.\n",
      "The behavior will change in pandas 3.0. This inplace method will never work because the intermediate object on which we are setting values always behaves as a copy.\n",
      "\n",
      "For example, when doing 'df[col].method(value, inplace=True)', try using 'df.method({col: value}, inplace=True)' or df[col] = df[col].method(value) instead, to perform the operation inplace on the original object.\n",
      "\n",
      "\n",
      "  df['Units Sold'].fillna(df['Units Sold'].mean(), inplace=True)\n",
      "C:\\Users\\chakri\\AppData\\Local\\Temp\\ipykernel_14964\\4248622353.py:3: FutureWarning: A value is trying to be set on a copy of a DataFrame or Series through chained assignment using an inplace method.\n",
      "The behavior will change in pandas 3.0. This inplace method will never work because the intermediate object on which we are setting values always behaves as a copy.\n",
      "\n",
      "For example, when doing 'df[col].method(value, inplace=True)', try using 'df.method({col: value}, inplace=True)' or df[col] = df[col].method(value) instead, to perform the operation inplace on the original object.\n",
      "\n",
      "\n",
      "  df['Sales Amount'].fillna(df['Sales Amount'].median(), inplace=True)\n",
      "C:\\Users\\chakri\\AppData\\Local\\Temp\\ipykernel_14964\\4248622353.py:4: FutureWarning: A value is trying to be set on a copy of a DataFrame or Series through chained assignment using an inplace method.\n",
      "The behavior will change in pandas 3.0. This inplace method will never work because the intermediate object on which we are setting values always behaves as a copy.\n",
      "\n",
      "For example, when doing 'df[col].method(value, inplace=True)', try using 'df.method({col: value}, inplace=True)' or df[col] = df[col].method(value) instead, to perform the operation inplace on the original object.\n",
      "\n",
      "\n",
      "  df['Discount Applied'].fillna(0, inplace=True)\n"
     ]
    }
   ],
   "source": [
    "# Fill missing values for numerical columns\n",
    "df['Units Sold'].fillna(df['Units Sold'].mean(), inplace=True)\n",
    "df['Sales Amount'].fillna(df['Sales Amount'].median(), inplace=True)\n",
    "df['Discount Applied'].fillna(0, inplace=True)"
   ]
  },
  {
   "cell_type": "code",
   "execution_count": 9,
   "metadata": {},
   "outputs": [],
   "source": [
    "# Handle incorrect date format by converting to datetime\n",
    "df['Date'] = pd.to_datetime(df['Date'], errors='coerce')\n",
    "df.dropna(subset=['Date'], inplace=True)  # Remove rows with invalid dates"
   ]
  },
  {
   "cell_type": "code",
   "execution_count": 10,
   "metadata": {},
   "outputs": [],
   "source": [
    "#Handling Outliers\n",
    "def handle_outliers(df, column):\n",
    "    Q1 = df[column].quantile(0.25)\n",
    "    Q3 = df[column].quantile(0.75)\n",
    "    IQR = Q3 - Q1\n",
    "    lower_bound = Q1 - 1.5 * IQR\n",
    "    upper_bound = Q3 + 1.5 * IQR\n",
    "    \n",
    "    # Capping the outliers\n",
    "    df[column] = df[column].apply(lambda x: lower_bound if x < lower_bound else upper_bound if x > upper_bound else x)\n",
    "    return df\n",
    "\n",
    "# Apply the function to relevant columns\n",
    "for col in [\"Units Sold\", \"Sales Amount\", \"Discount Applied\"]:\n",
    "    df = handle_outliers(df, col)\n",
    "\n",
    "# Save the cleaned DataFrame\n",
    "output_cleaned_path = 'sales_data_cleaned.csv'\n",
    "df.to_csv(output_cleaned_path, index=False)\n"
   ]
  },
  {
   "cell_type": "markdown",
   "metadata": {},
   "source": [
    " Step 2: Data Aggregation"
   ]
  },
  {
   "cell_type": "code",
   "execution_count": 11,
   "metadata": {},
   "outputs": [],
   "source": [
    "daily_sales = df.groupby('Date')['Sales Amount'].sum().reset_index()"
   ]
  },
  {
   "cell_type": "code",
   "execution_count": 12,
   "metadata": {},
   "outputs": [],
   "source": [
    "store_sales = df.groupby('Store ID')['Sales Amount'].sum().reset_index()"
   ]
  },
  {
   "cell_type": "code",
   "execution_count": 13,
   "metadata": {},
   "outputs": [],
   "source": [
    "product_sales = df.groupby('Product ID')['Sales Amount'].agg(['sum', 'mean']).reset_index()"
   ]
  },
  {
   "cell_type": "markdown",
   "metadata": {},
   "source": [
    "Step 3: Analysis"
   ]
  },
  {
   "cell_type": "code",
   "execution_count": 14,
   "metadata": {},
   "outputs": [
    {
     "data": {
      "text/html": [
       "<div>\n",
       "<style scoped>\n",
       "    .dataframe tbody tr th:only-of-type {\n",
       "        vertical-align: middle;\n",
       "    }\n",
       "\n",
       "    .dataframe tbody tr th {\n",
       "        vertical-align: top;\n",
       "    }\n",
       "\n",
       "    .dataframe thead th {\n",
       "        text-align: right;\n",
       "    }\n",
       "</style>\n",
       "<table border=\"1\" class=\"dataframe\">\n",
       "  <thead>\n",
       "    <tr style=\"text-align: right;\">\n",
       "      <th></th>\n",
       "      <th>Total_Sales</th>\n",
       "      <th>Average_Sales</th>\n",
       "    </tr>\n",
       "    <tr>\n",
       "      <th>Product ID</th>\n",
       "      <th></th>\n",
       "      <th></th>\n",
       "    </tr>\n",
       "  </thead>\n",
       "  <tbody>\n",
       "    <tr>\n",
       "      <th>P001</th>\n",
       "      <td>4334.58</td>\n",
       "      <td>722.430000</td>\n",
       "    </tr>\n",
       "    <tr>\n",
       "      <th>P002</th>\n",
       "      <td>14374.49</td>\n",
       "      <td>1105.730000</td>\n",
       "    </tr>\n",
       "    <tr>\n",
       "      <th>P003</th>\n",
       "      <td>5214.45</td>\n",
       "      <td>474.040909</td>\n",
       "    </tr>\n",
       "    <tr>\n",
       "      <th>P004</th>\n",
       "      <td>14152.93</td>\n",
       "      <td>1415.293000</td>\n",
       "    </tr>\n",
       "    <tr>\n",
       "      <th>P005</th>\n",
       "      <td>11001.35</td>\n",
       "      <td>1100.135000</td>\n",
       "    </tr>\n",
       "  </tbody>\n",
       "</table>\n",
       "</div>"
      ],
      "text/plain": [
       "            Total_Sales  Average_Sales\n",
       "Product ID                            \n",
       "P001            4334.58     722.430000\n",
       "P002           14374.49    1105.730000\n",
       "P003            5214.45     474.040909\n",
       "P004           14152.93    1415.293000\n",
       "P005           11001.35    1100.135000"
      ]
     },
     "execution_count": 14,
     "metadata": {},
     "output_type": "execute_result"
    }
   ],
   "source": [
    "# total and average sales per product\n",
    "sales_per_product = df.groupby(\"Product ID\")[\"Sales Amount\"].agg(Total_Sales=\"sum\", Average_Sales=\"mean\")\n",
    "sales_per_product"
   ]
  },
  {
   "cell_type": "code",
   "execution_count": 15,
   "metadata": {},
   "outputs": [
    {
     "data": {
      "text/plain": [
       "Store ID           S002\n",
       "Sales Amount    17163.2\n",
       "Name: 1, dtype: object"
      ]
     },
     "execution_count": 15,
     "metadata": {},
     "output_type": "execute_result"
    }
   ],
   "source": [
    "# Store with the highest sales performance\n",
    "top_store = store_sales.loc[store_sales['Sales Amount'].idxmax()]\n",
    "top_store"
   ]
  },
  {
   "cell_type": "code",
   "execution_count": 17,
   "metadata": {},
   "outputs": [
    {
     "data": {
      "text/plain": [
       "-0.10876984535236521"
      ]
     },
     "execution_count": 17,
     "metadata": {},
     "output_type": "execute_result"
    }
   ],
   "source": [
    "# Calculate correlation between discount and sales amount to analyze discount impact\n",
    "discount_sales_corr = df[['Discount Applied', 'Sales Amount']].corr().iloc[0, 1]\n",
    "discount_sales_corr"
   ]
  },
  {
   "cell_type": "markdown",
   "metadata": {},
   "source": [
    "Step 4: Visualization"
   ]
  },
  {
   "cell_type": "code",
   "execution_count": 21,
   "metadata": {},
   "outputs": [
    {
     "data": {
      "image/png": "[encoded data removed]",
      "text/plain": [
       "<Figure size 1000x600 with 1 Axes>"
      ]
     },
     "metadata": {},
     "output_type": "display_data"
    }
   ],
   "source": [
    "# Sales Trend Over Time\n",
    "plt.figure(figsize=(10, 6))\n",
    "plt.plot(daily_sales['Date'], daily_sales['Sales Amount'], marker='o', color='b')\n",
    "plt.title(\"Daily Sales Trend-24MAI0079\")\n",
    "plt.xlabel(\"Date\")\n",
    "plt.ylabel(\"Total Sales Amount\")\n",
    "plt.xticks(rotation=45)\n",
    "plt.grid(True)\n",
    "plt.show()"
   ]
  },
  {
   "cell_type": "code",
   "execution_count": 22,
   "metadata": {},
   "outputs": [
    {
     "data": {
      "image/png": "[encoded data removed]",
      "text/plain": [
       "<Figure size 1000x600 with 1 Axes>"
      ]
     },
     "metadata": {},
     "output_type": "display_data"
    }
   ],
   "source": [
    "# Sales Distribution Across Stores\n",
    "plt.figure(figsize=(10, 6))\n",
    "plt.bar(store_sales['Store ID'], store_sales['Sales Amount'], color='orange')\n",
    "plt.title(\"Sales by Store-24MAI0079\")\n",
    "plt.xlabel(\"Store ID\")\n",
    "plt.ylabel(\"Total Sales Amount\")\n",
    "plt.xticks(rotation=45)\n",
    "plt.show()"
   ]
  },
  {
   "cell_type": "code",
   "execution_count": 23,
   "metadata": {},
   "outputs": [
    {
     "data": {
      "image/png": "[encoded data removed]",
      "text/plain": [
       "<Figure size 1000x600 with 1 Axes>"
      ]
     },
     "metadata": {},
     "output_type": "display_data"
    }
   ],
   "source": [
    "# Product Performance (Total Sales per Product)\n",
    "plt.figure(figsize=(10, 6))\n",
    "plt.barh(product_sales['Product ID'], product_sales['sum'], color='green')\n",
    "plt.title(\"Product Performance - Total Sales-24MAI0079\")\n",
    "plt.xlabel(\"Total Sales Amount\")\n",
    "plt.ylabel(\"Product ID\")\n",
    "plt.show()"
   ]
  },
  {
   "cell_type": "code",
   "execution_count": null,
   "metadata": {},
   "outputs": [],
   "source": []
  }
 ],
 "metadata": {
  "kernelspec": {
   "display_name": "Python 3",
   "language": "python",
   "name": "python3"
  },
  "language_info": {
   "codemirror_mode": {
    "name": "ipython",
    "version": 3
   },
   "file_extension": ".py",
   "mimetype": "text/x-python",
   "name": "python",
   "nbconvert_exporter": "python",
   "pygments_lexer": "ipython3",
   "version": "3.12.6"
  }
 },
 "nbformat": 4,
 "nbformat_minor": 2
}
